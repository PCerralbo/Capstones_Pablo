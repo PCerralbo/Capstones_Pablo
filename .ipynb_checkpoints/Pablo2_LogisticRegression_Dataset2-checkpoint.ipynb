{
 "cells": [
  {
   "cell_type": "code",
   "execution_count": 1,
   "metadata": {},
   "outputs": [],
   "source": [
    "# Import essentials\n",
    "import numpy as np # linear algebra\n",
    "import pandas as pd # data processing, CSV file I/O (e.g. pd.read_csv)\n",
    "import matplotlib.pyplot as plt\n",
    "import os"
   ]
  },
  {
   "cell_type": "code",
   "execution_count": 2,
   "metadata": {},
   "outputs": [],
   "source": [
    "train_df = pd.read_excel('ub-politician-tweets-ii/train-20190402-08_55_19.xlsx') # Load the `train` file"
   ]
  },
  {
   "cell_type": "code",
   "execution_count": 3,
   "metadata": {},
   "outputs": [
    {
     "data": {
      "text/html": [
       "<div>\n",
       "<style scoped>\n",
       "    .dataframe tbody tr th:only-of-type {\n",
       "        vertical-align: middle;\n",
       "    }\n",
       "\n",
       "    .dataframe tbody tr th {\n",
       "        vertical-align: top;\n",
       "    }\n",
       "\n",
       "    .dataframe thead th {\n",
       "        text-align: right;\n",
       "    }\n",
       "</style>\n",
       "<table border=\"1\" class=\"dataframe\">\n",
       "  <thead>\n",
       "    <tr style=\"text-align: right;\">\n",
       "      <th></th>\n",
       "      <th>Id</th>\n",
       "      <th>username</th>\n",
       "      <th>party</th>\n",
       "      <th>text</th>\n",
       "      <th>created_at</th>\n",
       "      <th>retweet_count</th>\n",
       "      <th>favorite_count</th>\n",
       "    </tr>\n",
       "  </thead>\n",
       "  <tbody>\n",
       "    <tr>\n",
       "      <th>0</th>\n",
       "      <td>0</td>\n",
       "      <td>Jaumeasens</td>\n",
       "      <td>bcomu</td>\n",
       "      <td>Que el Suprem no deixi comparèixer davant el P...</td>\n",
       "      <td>2019-01-22 11:09:09</td>\n",
       "      <td>205</td>\n",
       "      <td>378</td>\n",
       "    </tr>\n",
       "    <tr>\n",
       "      <th>1</th>\n",
       "      <td>1</td>\n",
       "      <td>subirats9</td>\n",
       "      <td>bcomu</td>\n",
       "      <td>Un artículo a leer de @ainagallego sobre un te...</td>\n",
       "      <td>2018-12-12 10:20:00</td>\n",
       "      <td>2</td>\n",
       "      <td>2</td>\n",
       "    </tr>\n",
       "    <tr>\n",
       "      <th>2</th>\n",
       "      <td>2</td>\n",
       "      <td>subirats9</td>\n",
       "      <td>bcomu</td>\n",
       "      <td>El sentiment de desprotecció davant les incert...</td>\n",
       "      <td>2018-11-24 23:06:50</td>\n",
       "      <td>20</td>\n",
       "      <td>58</td>\n",
       "    </tr>\n",
       "    <tr>\n",
       "      <th>3</th>\n",
       "      <td>3</td>\n",
       "      <td>neusmunte</td>\n",
       "      <td>jxcat</td>\n",
       "      <td>I cap d’ells te traça amb els micròfons i les ...</td>\n",
       "      <td>2018-10-23 20:13:25</td>\n",
       "      <td>161</td>\n",
       "      <td>462</td>\n",
       "    </tr>\n",
       "    <tr>\n",
       "      <th>4</th>\n",
       "      <td>4</td>\n",
       "      <td>cuevillasjacs</td>\n",
       "      <td>jxcat</td>\n",
       "      <td>El @sergimiquel s’ha acomiadat avui com a Secr...</td>\n",
       "      <td>2019-03-17 18:45:50</td>\n",
       "      <td>58</td>\n",
       "      <td>238</td>\n",
       "    </tr>\n",
       "  </tbody>\n",
       "</table>\n",
       "</div>"
      ],
      "text/plain": [
       "   Id       username  party  \\\n",
       "0   0     Jaumeasens  bcomu   \n",
       "1   1      subirats9  bcomu   \n",
       "2   2      subirats9  bcomu   \n",
       "3   3      neusmunte  jxcat   \n",
       "4   4  cuevillasjacs  jxcat   \n",
       "\n",
       "                                                text          created_at  \\\n",
       "0  Que el Suprem no deixi comparèixer davant el P... 2019-01-22 11:09:09   \n",
       "1  Un artículo a leer de @ainagallego sobre un te... 2018-12-12 10:20:00   \n",
       "2  El sentiment de desprotecció davant les incert... 2018-11-24 23:06:50   \n",
       "3  I cap d’ells te traça amb els micròfons i les ... 2018-10-23 20:13:25   \n",
       "4  El @sergimiquel s’ha acomiadat avui com a Secr... 2019-03-17 18:45:50   \n",
       "\n",
       "   retweet_count  favorite_count  \n",
       "0            205             378  \n",
       "1              2               2  \n",
       "2             20              58  \n",
       "3            161             462  \n",
       "4             58             238  "
      ]
     },
     "execution_count": 3,
     "metadata": {},
     "output_type": "execute_result"
    }
   ],
   "source": [
    "train_df.head()"
   ]
  },
  {
   "cell_type": "code",
   "execution_count": 4,
   "metadata": {},
   "outputs": [
    {
     "data": {
      "text/plain": [
       "'bcncapital'"
      ]
     },
     "execution_count": 4,
     "metadata": {},
     "output_type": "execute_result"
    }
   ],
   "source": [
    "train_df.party[15]\n"
   ]
  },
  {
   "cell_type": "code",
   "execution_count": 24,
   "metadata": {},
   "outputs": [],
   "source": [
    "#!pip install stop_words"
   ]
  },
  {
   "cell_type": "code",
   "execution_count": 5,
   "metadata": {},
   "outputs": [],
   "source": [
    "import re\n",
    "from stop_words import get_stop_words\n",
    "\n",
    "def special_char(text):\n",
    "    \"\"\"Retrieve the special characters\n",
    "    \"\"\"\n",
    "    return re.sub(r'\\W', ' ', text)\n",
    "\n",
    "def filter_single(text):\n",
    "    \"\"\"remove all single characters\n",
    "    \"\"\"\n",
    "    return re.sub(r'\\s+[a-zA-Z]\\s+', ' ', text)\n",
    "\n",
    "def filter_singleStart(text):\n",
    "    \"\"\"Remove single characters from the start\n",
    "    \"\"\"\n",
    "    return re.sub(r'\\^[a-zA-Z]\\s+', ' ', text)\n",
    "\n",
    "def filter_multiplespace(text):\n",
    "    \"\"\"Substituting multiple spaces with single space\n",
    "    \"\"\"\n",
    "    return re.sub(r'\\s+', ' ', text, flags=re.I)\n",
    "\n",
    "def stop_words():\n",
    "    \"\"\"Retrieve the stop words for vectorization -Feel free to modify this function\n",
    "    \"\"\"\n",
    "    return get_stop_words('es') + get_stop_words('ca') + get_stop_words('en')\n",
    "\n",
    "def filter_mentions(text):\n",
    "    \"\"\"Utility function to remove the mentions of a tweet\n",
    "    \"\"\"\n",
    "    return re.sub(\"@\\S+\", \"\", text)\n",
    "\n",
    "def filter_hashtags(text):\n",
    "    \"\"\"Utility function to remove the hashtags of a tweet\n",
    "    \"\"\"\n",
    "    return re.sub(\"#\\S+\", \"\", text)\n",
    "\n",
    "def filter_symb_hashtag(text):\n",
    "    \"\"\"Utility function to remove the hashtags symbol of a tweet\n",
    "    \"\"\"\n",
    "    return re.sub(\"#\", \"\", text)\n",
    "\n",
    "def filter_symb1(text):\n",
    "    \"\"\"Utility function to remove special characters of a tweet\n",
    "    \"\"\"\n",
    "    return re.sub(r'[(:+*?¿!¡.,;`\"\")]', \"\", text)\n",
    "\n",
    "#def translate_text(text):\n",
    "#    \"\"\"Utility function to translate the text of a tweet\n",
    "#    \"\"\"\n",
    "#    return translator.translate(text, dest='es').text\n",
    "\n",
    "def lower_text(text):\n",
    "    \"\"\"Utility function to lower text\n",
    "    \"\"\"\n",
    "    return text.lower()\n",
    "\n",
    "def eliminate_numbers(text):\n",
    "    \"\"\"Utility function to lower text\n",
    "    \"\"\"\n",
    "    return re.sub(r'\\w*\\d\\w*', '', text).strip()\n",
    "\n",
    "def eliminate_emojiis(text):\n",
    "    \"\"\"Utility to eliminate emojiis from the text\n",
    "    \"\"\"\n",
    "    em_pat=re.compile(\"[\"\n",
    "        u\"\\U0001F600-\\U0001F64F\"  # emoticons\n",
    "        u\"\\U0001F300-\\U0001F5FF\"  # symbols & pictographs\n",
    "        u\"\\U0001F680-\\U0001F6FF\"  # transport & map symbols\n",
    "        u\"\\U0001F1E0-\\U0001F1FF\"  # flags (iOS)\n",
    "                           \"]+\", flags=re.UNICODE)\n",
    "    return  em_pat.sub(r'',text)"
   ]
  },
  {
   "cell_type": "markdown",
   "metadata": {},
   "source": [
    "### Pre-Processing (1-3 fets)\n",
    "1) eliminate symbols :,?¿!';-\n",
    "2) eliminate single characters  \n",
    "2b) numbers (eliminate numbers and words with numbers)  \n",
    "3) all to lower  \n",
    "4) accents? (amb unidecode, pero passa ç a c, ñ a n, aixo introdueix errors?)  \n",
    "5) i is fessim una columna amb 0-1 indicant si hi ha emoji? (sigui com sigui, pero algu potser els fa servir bastant?)\n",
    "6) segurament, si hi ha hashtag del partit l'ha posat el mateix partit (publicitat)"
   ]
  },
  {
   "cell_type": "code",
   "execution_count": 6,
   "metadata": {},
   "outputs": [
    {
     "data": {
      "text/html": [
       "<div>\n",
       "<style scoped>\n",
       "    .dataframe tbody tr th:only-of-type {\n",
       "        vertical-align: middle;\n",
       "    }\n",
       "\n",
       "    .dataframe tbody tr th {\n",
       "        vertical-align: top;\n",
       "    }\n",
       "\n",
       "    .dataframe thead th {\n",
       "        text-align: right;\n",
       "    }\n",
       "</style>\n",
       "<table border=\"1\" class=\"dataframe\">\n",
       "  <thead>\n",
       "    <tr style=\"text-align: right;\">\n",
       "      <th></th>\n",
       "      <th>Id</th>\n",
       "      <th>username</th>\n",
       "      <th>party</th>\n",
       "      <th>text</th>\n",
       "      <th>created_at</th>\n",
       "      <th>retweet_count</th>\n",
       "      <th>favorite_count</th>\n",
       "      <th>text_clean</th>\n",
       "    </tr>\n",
       "  </thead>\n",
       "  <tbody>\n",
       "    <tr>\n",
       "      <th>0</th>\n",
       "      <td>0</td>\n",
       "      <td>Jaumeasens</td>\n",
       "      <td>bcomu</td>\n",
       "      <td>Que el Suprem no deixi comparèixer davant el P...</td>\n",
       "      <td>2019-01-22 11:09:09</td>\n",
       "      <td>205</td>\n",
       "      <td>378</td>\n",
       "      <td>que el suprem no deixi comparèixer davant el p...</td>\n",
       "    </tr>\n",
       "    <tr>\n",
       "      <th>1</th>\n",
       "      <td>1</td>\n",
       "      <td>subirats9</td>\n",
       "      <td>bcomu</td>\n",
       "      <td>Un artículo a leer de @ainagallego sobre un te...</td>\n",
       "      <td>2018-12-12 10:20:00</td>\n",
       "      <td>2</td>\n",
       "      <td>2</td>\n",
       "      <td>un artículo leer de @ainagallego sobre un tema...</td>\n",
       "    </tr>\n",
       "    <tr>\n",
       "      <th>2</th>\n",
       "      <td>2</td>\n",
       "      <td>subirats9</td>\n",
       "      <td>bcomu</td>\n",
       "      <td>El sentiment de desprotecció davant les incert...</td>\n",
       "      <td>2018-11-24 23:06:50</td>\n",
       "      <td>20</td>\n",
       "      <td>58</td>\n",
       "      <td>el sentiment de desprotecció davant les incert...</td>\n",
       "    </tr>\n",
       "    <tr>\n",
       "      <th>3</th>\n",
       "      <td>3</td>\n",
       "      <td>neusmunte</td>\n",
       "      <td>jxcat</td>\n",
       "      <td>I cap d’ells te traça amb els micròfons i les ...</td>\n",
       "      <td>2018-10-23 20:13:25</td>\n",
       "      <td>161</td>\n",
       "      <td>462</td>\n",
       "      <td>i cap d’ells te traça amb els micròfons les gr...</td>\n",
       "    </tr>\n",
       "    <tr>\n",
       "      <th>4</th>\n",
       "      <td>4</td>\n",
       "      <td>cuevillasjacs</td>\n",
       "      <td>jxcat</td>\n",
       "      <td>El @sergimiquel s’ha acomiadat avui com a Secr...</td>\n",
       "      <td>2019-03-17 18:45:50</td>\n",
       "      <td>58</td>\n",
       "      <td>238</td>\n",
       "      <td>el @sergimiquel s’ha acomiadat avui com secret...</td>\n",
       "    </tr>\n",
       "  </tbody>\n",
       "</table>\n",
       "</div>"
      ],
      "text/plain": [
       "   Id       username  party  \\\n",
       "0   0     Jaumeasens  bcomu   \n",
       "1   1      subirats9  bcomu   \n",
       "2   2      subirats9  bcomu   \n",
       "3   3      neusmunte  jxcat   \n",
       "4   4  cuevillasjacs  jxcat   \n",
       "\n",
       "                                                text          created_at  \\\n",
       "0  Que el Suprem no deixi comparèixer davant el P... 2019-01-22 11:09:09   \n",
       "1  Un artículo a leer de @ainagallego sobre un te... 2018-12-12 10:20:00   \n",
       "2  El sentiment de desprotecció davant les incert... 2018-11-24 23:06:50   \n",
       "3  I cap d’ells te traça amb els micròfons i les ... 2018-10-23 20:13:25   \n",
       "4  El @sergimiquel s’ha acomiadat avui com a Secr... 2019-03-17 18:45:50   \n",
       "\n",
       "   retweet_count  favorite_count  \\\n",
       "0            205             378   \n",
       "1              2               2   \n",
       "2             20              58   \n",
       "3            161             462   \n",
       "4             58             238   \n",
       "\n",
       "                                          text_clean  \n",
       "0  que el suprem no deixi comparèixer davant el p...  \n",
       "1  un artículo leer de @ainagallego sobre un tema...  \n",
       "2  el sentiment de desprotecció davant les incert...  \n",
       "3  i cap d’ells te traça amb els micròfons les gr...  \n",
       "4  el @sergimiquel s’ha acomiadat avui com secret...  "
      ]
     },
     "execution_count": 6,
     "metadata": {},
     "output_type": "execute_result"
    }
   ],
   "source": [
    "train_df['text_clean'] = [filter_symb1(filter_symb_hashtag(eliminate_emojiis(filter_single(eliminate_numbers(lower_text(row['text'])))))) for index, row in train_df.iterrows()]\n",
    "train_df.head(5)"
   ]
  },
  {
   "cell_type": "code",
   "execution_count": 7,
   "metadata": {},
   "outputs": [
    {
     "name": "stdout",
     "output_type": "stream",
     "text": [
      "Siempre en nuestro corazón y en nuestra memoria 🌈🌹\n",
      "„Sea cual sea su voto, quiero decirle que los homosexuales no somos orientaciones sexuales que vagamos por el espacio: somos sus hijos, sus hermanos, sus compañeros de grupo, sus colegas de partido...“ #Zerolo \n",
      "siempre en nuestro corazón en nuestra memoria \n",
      "„sea cual sea su voto quiero decirle que los homosexuales no somos orientaciones sexuales que vagamos por el espacio somos sus hijos sus hermanos sus compañeros de grupo sus colegas de partido“ zerolo\n"
     ]
    }
   ],
   "source": [
    "print (train_df.text[12])\n",
    "print (train_df.text_clean[12])"
   ]
  },
  {
   "cell_type": "markdown",
   "metadata": {},
   "source": [
    "### Afegim una columna amb idioma\n",
    "tot i que alguns resultats ens han mostrat pitjors scores"
   ]
  },
  {
   "cell_type": "markdown",
   "metadata": {},
   "source": [
    "### coses per fer:\n",
    "- lemmatization: sino ho podem traduir (el googletranslator dona problemes) no el podem aplicar (no n'hi ha en catala)  \n",
    "- identificar hastags? ara per ara han quedat"
   ]
  },
  {
   "cell_type": "markdown",
   "metadata": {},
   "source": [
    "# Models\n",
    "Ho fem fent servir el pipeline (aixo ens permet aplicar una funcio per buscar parametres optims)"
   ]
  },
  {
   "cell_type": "markdown",
   "metadata": {},
   "source": [
    "## Logistic Regression\n",
    "### Resultats\n",
    "1.  score = 0.72 eliminant simbols, fent minuscula\n",
    "{'clf__C': 10, 'clf__dual': True, 'clf__fit_intercept': True, 'clf__penalty': 'l2', 'clf__solver': 'liblinear', 'clf__tol': 0.0001, 'vect__max_features': 6000, 'vect__min_df': 1, 'vect__ngram_range': (1, 1), 'vect__stop_words':\n",
    "2.  score = 0.72. Eliminant simbol hashtag  \n",
    "{'clf__C': 10, 'clf__dual': False, 'clf__fit_intercept': True, 'clf__penalty': 'l2', 'clf__solver': 'sag', 'clf__tol': 0.001, 'vect__max_features': 6000, 'vect__min_df': 1, 'vect__ngram_range': (1, 1), 'vect__stop_words'\n",
    "3.  score = 0.72 Eliminant Emojis\n",
    "{'clf__C': 10, 'clf__dual': True, 'clf__fit_intercept': True, 'clf__penalty': 'l2', 'clf__solver': 'liblinear', 'clf__tol': 0.0001, 'vect__max_features': 6000, 'vect__min_df': 1, 'vect__ngram_range': (1, 1), 'vect__stop_words':"
   ]
  },
  {
   "cell_type": "code",
   "execution_count": null,
   "metadata": {},
   "outputs": [],
   "source": [
    "from sklearn.feature_extraction.text import TfidfVectorizer\n",
    "from sklearn.pipeline import Pipeline\n",
    "from sklearn.model_selection import GridSearchCV\n",
    "from sklearn.model_selection import train_test_split\n",
    "from sklearn.svm import LinearSVC, LinearSVR, SVC\n",
    "\n",
    "\n",
    "# clf=SVC(kernel='rbf', degree=6, C=10) -> 0.16\n",
    "#clf=SVC(kernel='linear', degree=6, C=10) -> 0.7, variant degree a [1,6,12] i c[10, 100] es queda igual\n",
    "#clf=SVC(kernel='poly', degree=6, C=10, gamma='auto') -> 0.16\n",
    "#clf=SVC(kernel='sigmoid', degree=6, C=10, gamma='auto') -> 0.16\n",
    "clf=SVC(kernel='linear', degree=6, C=10, coef0=4)\n",
    "\n",
    "X_train, X_test, y_train, y_test = train_test_split(train_df['text_clean'], train_df['party'].values, test_size=0.20, random_state=345 )\n",
    "vectorizer= TfidfVectorizer(min_df=1, ngram_range=(1,3), max_features=12000, stop_words=stop_words())\n",
    "\n",
    "Xvec=vectorizer.fit_transform(X_train).toarray()\n",
    "Xvec_test=vectorizer.transform(X_test).toarray()\n",
    "\n",
    "\n",
    "clf.fit(Xvec,y_train)\n",
    "clf.predict(Xvec_test)\n",
    "\n",
    "print (\"score = %3.2f\" %(clf.score(Xvec_test,y_test)) )"
   ]
  },
  {
   "cell_type": "code",
   "execution_count": null,
   "metadata": {},
   "outputs": [],
   "source": []
  }
 ],
 "metadata": {
  "kernelspec": {
   "display_name": "Python 3",
   "language": "python",
   "name": "python3"
  },
  "language_info": {
   "codemirror_mode": {
    "name": "ipython",
    "version": 3
   },
   "file_extension": ".py",
   "mimetype": "text/x-python",
   "name": "python",
   "nbconvert_exporter": "python",
   "pygments_lexer": "ipython3",
   "version": "3.6.5"
  }
 },
 "nbformat": 4,
 "nbformat_minor": 2
}
